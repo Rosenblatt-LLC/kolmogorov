{
 "cells": [
  {
   "cell_type": "code",
   "execution_count": 11,
   "metadata": {},
   "outputs": [
    {
     "name": "stdout",
     "output_type": "stream",
     "text": [
      "Obtaining file:///home/ec2-user/SageMaker/kolmogorov/generator/generator_scripts\n",
      "Requirement already satisfied: aotools==1.0.3 in /home/ec2-user/anaconda3/envs/tensorflow_p36/lib/python3.6/site-packages (from generator-scripts==0.0.1) (1.0.3)\n",
      "Collecting cupy-cuda100==7.8.0\n",
      "  Downloading cupy_cuda100-7.8.0-cp36-cp36m-manylinux1_x86_64.whl (348.0 MB)\n",
      "\u001b[K     |████████████████████████████████| 348.0 MB 5.1 kB/s  eta 0:00:01   |███▏                            | 34.5 MB 3.1 MB/s eta 0:01:42     |████████████████████▎           | 221.1 MB 61.0 MB/s eta 0:00:03     |█████████████████████           | 229.3 MB 61.0 MB/s eta 0:00:02     |████████████████████████▏       | 262.2 MB 83.0 MB/s eta 0:00:02\n",
      "\u001b[?25hRequirement already satisfied: matplotlib==3.3.0 in /home/ec2-user/anaconda3/envs/tensorflow_p36/lib/python3.6/site-packages (from generator-scripts==0.0.1) (3.3.0)\n",
      "Requirement already satisfied: numpy==1.19.1 in /home/ec2-user/anaconda3/envs/tensorflow_p36/lib/python3.6/site-packages (from generator-scripts==0.0.1) (1.19.1)\n",
      "Collecting opencv-python==4.3.0.36\n",
      "  Using cached opencv_python-4.3.0.36-cp36-cp36m-manylinux2014_x86_64.whl (43.7 MB)\n",
      "Requirement already satisfied: Pillow==7.2.0 in /home/ec2-user/anaconda3/envs/tensorflow_p36/lib/python3.6/site-packages (from generator-scripts==0.0.1) (7.2.0)\n",
      "Requirement already satisfied: pyparsing==2.4.7 in /home/ec2-user/anaconda3/envs/tensorflow_p36/lib/python3.6/site-packages (from generator-scripts==0.0.1) (2.4.7)\n",
      "Requirement already satisfied: python-dateutil==2.8.1 in /home/ec2-user/anaconda3/envs/tensorflow_p36/lib/python3.6/site-packages (from generator-scripts==0.0.1) (2.8.1)\n",
      "Requirement already satisfied: scipy==1.5.2 in /home/ec2-user/anaconda3/envs/tensorflow_p36/lib/python3.6/site-packages (from generator-scripts==0.0.1) (1.5.2)\n",
      "Requirement already satisfied: six==1.15.0 in /home/ec2-user/anaconda3/envs/tensorflow_p36/lib/python3.6/site-packages (from generator-scripts==0.0.1) (1.15.0)\n",
      "Requirement already satisfied: fastrlock>=0.3 in /home/ec2-user/anaconda3/envs/tensorflow_p36/lib/python3.6/site-packages (from cupy-cuda100==7.8.0->generator-scripts==0.0.1) (0.5)\n",
      "Requirement already satisfied: kiwisolver>=1.0.1 in /home/ec2-user/anaconda3/envs/tensorflow_p36/lib/python3.6/site-packages (from matplotlib==3.3.0->generator-scripts==0.0.1) (1.2.0)\n",
      "Requirement already satisfied: cycler>=0.10 in /home/ec2-user/anaconda3/envs/tensorflow_p36/lib/python3.6/site-packages (from matplotlib==3.3.0->generator-scripts==0.0.1) (0.10.0)\n",
      "Installing collected packages: cupy-cuda100, opencv-python, generator-scripts\n",
      "  Attempting uninstall: opencv-python\n",
      "    Found existing installation: opencv-python 4.2.0.32\n",
      "    Uninstalling opencv-python-4.2.0.32:\n",
      "      Successfully uninstalled opencv-python-4.2.0.32\n",
      "  Running setup.py develop for generator-scripts\n",
      "Successfully installed cupy-cuda100-7.8.0 generator-scripts opencv-python-4.3.0.36\n",
      "\u001b[33mWARNING: You are using pip version 20.0.2; however, version 20.2.2 is available.\n",
      "You should consider upgrading via the '/home/ec2-user/anaconda3/envs/tensorflow_p36/bin/python -m pip install --upgrade pip' command.\u001b[0m\n"
     ]
    }
   ],
   "source": [
    "!pip install -e generator/generator_scripts"
   ]
  },
  {
   "cell_type": "code",
   "execution_count": 16,
   "metadata": {},
   "outputs": [
    {
     "name": "stdout",
     "output_type": "stream",
     "text": [
      "Attempting to distort images matching pattern \"**/*.png\" in directory: ../ssa-data/updated-orientation/not_distorted. Output directory: ../ssa-data/updated-orientation/more_distorted\n",
      "Failed to apply distortion to images -- Unable to allocate 516. MiB for an array with shape (8224, 8224) and data type float64\n",
      "Traceback (most recent call last):\n",
      "  File \"/home/ec2-user/anaconda3/envs/tensorflow_p36/bin/distort_dataset\", line 7, in <module>\n",
      "    exec(compile(f.read(), __file__, 'exec'))\n",
      "  File \"/home/ec2-user/SageMaker/kolmogorov/generator/generator_scripts/bin/distort_dataset\", line 44, in <module>\n",
      "    raise e\n",
      "  File \"/home/ec2-user/SageMaker/kolmogorov/generator/generator_scripts/bin/distort_dataset\", line 41, in <module>\n",
      "    atmospheric_distort_directory(directory_path, file_glob_matcher, output_directory, aperture_size, fried_param, outer_scale, random_seed, stencil_length_factor)\n",
      "  File \"/home/ec2-user/SageMaker/kolmogorov/generator/generator_scripts/generator_scripts/distortion.py\", line 140, in atmospheric_distort_directory\n",
      "    stencil_length_factor\n",
      "  File \"/home/ec2-user/SageMaker/kolmogorov/generator/generator_scripts/generator_scripts/distortion.py\", line 109, in atmospheric_distort_image_file\n",
      "    img = atmospheric_distort(img, aperture_size, fried_param, outer_scale, random_seed, stencil_length_factor)\n",
      "  File \"/home/ec2-user/SageMaker/kolmogorov/generator/generator_scripts/generator_scripts/distortion.py\", line 86, in atmospheric_distort\n",
      "    PSK = PhaseScreenKolmogorov(height, pxl_scale, fried_param, outer_scale, random_seed, stencil_length_factor)\n",
      "  File \"/home/ec2-user/anaconda3/envs/tensorflow_p36/lib/python3.6/site-packages/aotools/turbulence/infinitephasescreen.py\", line 398, in __init__\n",
      "    self.make_initial_screen()\n",
      "  File \"/home/ec2-user/anaconda3/envs/tensorflow_p36/lib/python3.6/site-packages/aotools/turbulence/infinitephasescreen.py\", line 182, in make_initial_screen\n",
      "    self.r0, self.stencil_length, self.pixel_scale, self.L0, 1e-10\n",
      "  File \"/home/ec2-user/anaconda3/envs/tensorflow_p36/lib/python3.6/site-packages/aotools/turbulence/phasescreen.py\", line 128, in ft_phase_screen\n",
      "    PSD_phi = (0.023*r0**(-5./3.) * numpy.exp(-1*((f/fm)**2)) / (((f**2) + (f0**2))**(11./6)))\n",
      "MemoryError: Unable to allocate 516. MiB for an array with shape (8224, 8224) and data type float64\n",
      "\u001b[0m"
     ]
    }
   ],
   "source": [
    "!distort_dataset ../ssa-data/updated-orientation/not_distorted \"**/*.png\" ../ssa-data/updated-orientation/more_distorted 8 0.351 100 none 32"
   ]
  },
  {
   "cell_type": "code",
   "execution_count": 13,
   "metadata": {},
   "outputs": [
    {
     "name": "stdout",
     "output_type": "stream",
     "text": [
      "/home/ec2-user/SageMaker/kolmogorov\n"
     ]
    }
   ],
   "source": [
    "!pwd"
   ]
  },
  {
   "cell_type": "code",
   "execution_count": null,
   "metadata": {},
   "outputs": [],
   "source": [
    "!distort_dataset ../ssa-data/updated-orientation/not_distorted \"*/*.png\" ../ssa-data/updated-orientation/less_distorted 8 1.6 100 none 32"
   ]
  },
  {
   "cell_type": "code",
   "execution_count": 42,
   "metadata": {},
   "outputs": [
    {
     "name": "stdout",
     "output_type": "stream",
     "text": [
      "Traceback (most recent call last):\n",
      "  File \"/home/ec2-user/anaconda3/envs/tensorflow_p36/bin/generic_dataset\", line 7, in <module>\n",
      "    exec(compile(f.read(), __file__, 'exec'))\n",
      "  File \"/home/ec2-user/SageMaker/kolmogorov/generator/generator_scripts/bin/generic_dataset\", line 45, in <module>\n",
      "    for sat in os.listdir(SUBDIR(img_dir)):\n",
      "FileNotFoundError: [Errno 2] No such file or directory: '../ssa-data/not_distorted/test'\n"
     ]
    }
   ],
   "source": [
    "!generic_dataset ../ssa-data ../structured-generic"
   ]
  },
  {
   "cell_type": "code",
   "execution_count": 1,
   "metadata": {},
   "outputs": [],
   "source": [
    "import os\n",
    "import numpy as np\n",
    "import tensorflow as tf"
   ]
  },
  {
   "cell_type": "code",
   "execution_count": 2,
   "metadata": {},
   "outputs": [],
   "source": [
    "tf.compat.v1.disable_eager_execution()"
   ]
  },
  {
   "cell_type": "code",
   "execution_count": 15,
   "metadata": {},
   "outputs": [],
   "source": [
    "@tf.function\n",
    "def path2img(path):\n",
    "    img = tf.io.read_file(path)\n",
    "    img = tf.io.decode_image(img)\n",
    "    img = tf.image.convert_image_dtype(img, tf.float32)\n",
    "    return img"
   ]
  },
  {
   "cell_type": "code",
   "execution_count": 16,
   "metadata": {},
   "outputs": [],
   "source": [
    "@tf.function\n",
    "def tf_deg2rad(deg):\n",
    "    pi_on_180 = 0.017453292519943295\n",
    "    return deg * pi_on_180"
   ]
  },
  {
   "cell_type": "code",
   "execution_count": 17,
   "metadata": {},
   "outputs": [],
   "source": [
    "@tf.function\n",
    "def path2orientation(path):\n",
    "    orientation_str = tf.strings.split(path, '_')[2]\n",
    "    orientation = tf.strings.to_number(tf.strings.split(orientation_str, ','))\n",
    "    orientation = tf_deg2rad(orientation)\n",
    "    orientation = tf.concat([tf.math.sin(orientation), tf.math.cos(orientation)], 0)\n",
    "    return orientation"
   ]
  },
  {
   "cell_type": "code",
   "execution_count": 18,
   "metadata": {},
   "outputs": [],
   "source": [
    "@tf.function\n",
    "def path2label(path):\n",
    "    parts = tf.strings.split(path, os.path.sep)\n",
    "    return tf.cast(classes == parts[-2], tf.float32)"
   ]
  },
  {
   "cell_type": "raw",
   "metadata": {},
   "source": [
    "def multitask(path):\n",
    "    return {'orientation' : path2orientation(path), 'classification' : path2label(path)}"
   ]
  },
  {
   "cell_type": "code",
   "execution_count": 4,
   "metadata": {},
   "outputs": [],
   "source": [
    "directory = '/home/ec2-user/SageMaker/kolmogorov/model/validation'\n",
    "batch_size = 16\n",
    "classes = tf.convert_to_tensor(sorted(os.listdir(directory)))\n",
    "files_ds = tf.data.Dataset.list_files(os.path.join(directory,'*/*.png'))"
   ]
  },
  {
   "cell_type": "code",
   "execution_count": 6,
   "metadata": {},
   "outputs": [],
   "source": [
    "test_ds = files_ds.map(lambda x: path2img(x))"
   ]
  },
  {
   "cell_type": "code",
   "execution_count": 83,
   "metadata": {},
   "outputs": [],
   "source": [
    "orientation_ds = files_ds.map(\n",
    "    lambda x: tf.py_function(\n",
    "        path2orientation, [x], [tf.float32]\n",
    "    ),\n",
    "    num_parallel_calls=tf.data.experimental.AUTOTUNE\n",
    ")\n",
    "\n",
    "\n",
    "labels_ds = files_ds.map(\n",
    "    lambda x: tf.py_function(\n",
    "        path2label, [x, classes], [tf.float32]\n",
    "    ),\n",
    "    num_parallel_calls=tf.data.experimental.AUTOTUNE\n",
    ")\n",
    "\n",
    "img_ds = files_ds.map(\n",
    "    lambda x: tf.py_function(\n",
    "        path2img, [x], [tf.float32]\n",
    "    ),\n",
    "    num_parallel_calls=tf.data.experimental.AUTOTUNE\n",
    ")\n",
    "\n",
    "outputs_ds = tf.data.Dataset.zip((labels_ds, orientation_ds))\n",
    "ds = tf.data.Dataset.zip((img_ds, outputs_ds))\n",
    "#ds = ds.map(lambda x,y: [tf.convert_to_tensor(x[0]), [tf.convert_to_tensor(y[0]), tf.convert_to_tensor(y[1])]])\n",
    "ds = ds.batch(batch_size)\n",
    "#ds = ds.shuffle(files_ds.cardinality().numpy(), reshuffle_each_iteration=True)\n",
    "#ds = ds.prefetch(buffer_size=tf.data.experimental.AUTOTUNE)"
   ]
  },
  {
   "cell_type": "code",
   "execution_count": null,
   "metadata": {},
   "outputs": [],
   "source": []
  }
 ],
 "metadata": {
  "kernelspec": {
   "display_name": "conda_tensorflow2_p36",
   "language": "python",
   "name": "conda_tensorflow2_p36"
  },
  "language_info": {
   "codemirror_mode": {
    "name": "ipython",
    "version": 3
   },
   "file_extension": ".py",
   "mimetype": "text/x-python",
   "name": "python",
   "nbconvert_exporter": "python",
   "pygments_lexer": "ipython3",
   "version": "3.6.10"
  }
 },
 "nbformat": 4,
 "nbformat_minor": 4
}
