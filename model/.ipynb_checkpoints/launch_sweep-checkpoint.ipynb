{
 "cells": [
  {
   "cell_type": "markdown",
   "metadata": {},
   "source": [
    "# Distributed Wandb Hyperparameter Search with AWS Batch\n",
    "Please select the **conda_tensorflow2_p36** kernel in the top right!"
   ]
  },
  {
   "cell_type": "code",
   "execution_count": 14,
   "metadata": {},
   "outputs": [
    {
     "name": "stdout",
     "output_type": "stream",
     "text": [
      "The autoreload extension is already loaded. To reload it, use:\n",
      "  %reload_ext autoreload\n"
     ]
    }
   ],
   "source": [
    "%load_ext autoreload\n",
    "%autoreload 2"
   ]
  },
  {
   "cell_type": "code",
   "execution_count": 2,
   "metadata": {},
   "outputs": [
    {
     "name": "stdout",
     "output_type": "stream",
     "text": [
      "\u001b[33mWARNING: You are using pip version 20.0.2; however, version 20.1.1 is available.\n",
      "You should consider upgrading via the '/home/ec2-user/anaconda3/envs/tensorflow2_p36/bin/python -m pip install --upgrade pip' command.\u001b[0m\n"
     ]
    }
   ],
   "source": [
    "!pip install --upgrade wandb -q"
   ]
  },
  {
   "cell_type": "code",
   "execution_count": 23,
   "metadata": {},
   "outputs": [],
   "source": [
    "import wandb\n",
    "import boto3\n",
    "import base64\n",
    "from botocore.exceptions import ClientError"
   ]
  },
  {
   "cell_type": "markdown",
   "metadata": {},
   "source": [
    "## Define the Sweep Config"
   ]
  },
  {
   "cell_type": "code",
   "execution_count": 11,
   "metadata": {},
   "outputs": [],
   "source": [
    "def get_sweep_id(model='ResNet-50'):\n",
    "    sweep_config = {\n",
    "        'name': 'Artemis',\n",
    "        'program': 'dockerfile/model.py',\n",
    "        'method': 'bayes',\n",
    "        'metric': {\n",
    "          'name': 'accuracy',\n",
    "          'goal': 'maximize'   \n",
    "        },\n",
    "        'parameters' : {\n",
    "            'learning_rate' : {\n",
    "                'values' : [1e-2, 1e-3, 1e-4]\n",
    "            },\n",
    "            'batch_size' : {\n",
    "                'values' : [16]#, 32, 64] #128 too big\n",
    "            },\n",
    "            'epochs' : {\n",
    "                'values' : [5]#, 10, 25, 50]\n",
    "            },\n",
    "            'optimizer' : {\n",
    "                'values' : ['adam', 'rmsprop', 'sgd']\n",
    "            },\n",
    "            'activation' : {\n",
    "                'values' : ['relu', 'tanh', 'sigmoid']\n",
    "            },\n",
    "            'hidden_ly1' : {\n",
    "                'values' : [256, 512, 1024]\n",
    "            },\n",
    "            'hidden_ly2' : {\n",
    "                'values' : [256, 512, 1024]\n",
    "            },\n",
    "            'dropout_ly1' : {\n",
    "                'values' : [0.1, 0.2, 0.3, 0.4, 0.5, 0.6, 0.7, 0.8, 0.9]\n",
    "            },\n",
    "            'dropout_ly2' : {\n",
    "                'values' : [0.1, 0.2, 0.3, 0.4, 0.5, 0.6, 0.7, 0.8, 0.9]\n",
    "            },\n",
    "            'model' : {\n",
    "                'value' : model\n",
    "            }\n",
    "        }\n",
    "    }\n",
    "    \n",
    "    sweep_id = wandb.sweep(sweep_config, project='satellite-model-and-orientation')\n",
    "    \n",
    "    return sweep_id"
   ]
  },
  {
   "cell_type": "markdown",
   "metadata": {},
   "source": [
    "## Login to Wandb"
   ]
  },
  {
   "cell_type": "code",
   "execution_count": 7,
   "metadata": {},
   "outputs": [
    {
     "name": "stderr",
     "output_type": "stream",
     "text": [
      "\u001b[34m\u001b[1mwandb\u001b[0m: \u001b[32m\u001b[41mERROR\u001b[0m Not authenticated.  Copy a key from https://app.wandb.ai/authorize\n"
     ]
    },
    {
     "name": "stdin",
     "output_type": "stream",
     "text": [
      "API Key:  ········································\n"
     ]
    },
    {
     "name": "stderr",
     "output_type": "stream",
     "text": [
      "\u001b[34m\u001b[1mwandb\u001b[0m: Appending key for api.wandb.ai to your netrc file: /home/ec2-user/.netrc\n"
     ]
    },
    {
     "data": {
      "text/plain": [
       "True"
      ]
     },
     "execution_count": 7,
     "metadata": {},
     "output_type": "execute_result"
    }
   ],
   "source": [
    "wandb.login()"
   ]
  },
  {
   "cell_type": "markdown",
   "metadata": {},
   "source": [
    "## Initialize the Sweep ID"
   ]
  },
  {
   "cell_type": "code",
   "execution_count": 12,
   "metadata": {},
   "outputs": [
    {
     "name": "stdout",
     "output_type": "stream",
     "text": [
      "Create sweep with ID: ire9ohrz\n",
      "Sweep URL: https://app.wandb.ai/rosenblatt/satellite-model-and-orientation/sweeps/ire9ohrz\n"
     ]
    }
   ],
   "source": [
    "sweep_id = get_sweep_id()"
   ]
  },
  {
   "cell_type": "markdown",
   "metadata": {},
   "source": [
    "## Test Sweep Locally\n",
    "Can't launch agent from python interpreter, must use shell"
   ]
  },
  {
   "cell_type": "code",
   "execution_count": 13,
   "metadata": {},
   "outputs": [
    {
     "name": "stdout",
     "output_type": "stream",
     "text": [
      "\u001b[34m\u001b[1mwandb\u001b[0m: Starting wandb agent 🕵️\n",
      "2020-06-28 19:55:02,756 - wandb.wandb_agent - INFO - Running runs: []\n",
      "2020-06-28 19:55:02,970 - wandb.wandb_agent - INFO - Agent received command: run\n",
      "2020-06-28 19:55:02,970 - wandb.wandb_agent - INFO - Agent starting run with config:\n",
      "\tactivation: sigmoid\n",
      "\tbatch_size: 16\n",
      "\tdropout_ly1: 0.1\n",
      "\tdropout_ly2: 0.6\n",
      "\tepochs: 5\n",
      "\thidden_ly1: 1024\n",
      "\thidden_ly2: 512\n",
      "\tlearning_rate: 0.001\n",
      "\tmodel: ResNet-50\n",
      "\toptimizer: rmsprop\n",
      "2020-06-28 19:55:03,056 - wandb.wandb_agent - INFO - About to run command: /usr/bin/env python new_model.py --activation=sigmoid --batch_size=16 --dropout_ly1=0.1 --dropout_ly2=0.6 --epochs=5 --hidden_ly1=1024 --hidden_ly2=512 --learning_rate=0.001 --model=ResNet-50 --optimizer=rmsprop\n",
      "\u001b[34m\u001b[1mwandb\u001b[0m: Tracking run with wandb version 0.9.1\n",
      "\u001b[34m\u001b[1mwandb\u001b[0m: Run data is saved locally in wandb/run-20200628_195502-blidp2je\n",
      "\u001b[34m\u001b[1mwandb\u001b[0m: Syncing run \u001b[33mlogical-sweep-1\u001b[0m\n",
      "\u001b[34m\u001b[1mwandb\u001b[0m: ⭐️ View project at \u001b[34m\u001b[4mhttps://app.wandb.ai/rosenblatt/satellite-model-and-orientation\u001b[0m\n",
      "\u001b[34m\u001b[1mwandb\u001b[0m: 🧹 View sweep at \u001b[34m\u001b[4mhttps://app.wandb.ai/rosenblatt/satellite-model-and-orientation/sweeps/ire9ohrz\u001b[0m\n",
      "\u001b[34m\u001b[1mwandb\u001b[0m: 🚀 View run at \u001b[34m\u001b[4mhttps://app.wandb.ai/rosenblatt/satellite-model-and-orientation/runs/blidp2je\u001b[0m\n",
      "\u001b[34m\u001b[1mwandb\u001b[0m: Run `wandb off` to turn off syncing.\n",
      "\n",
      "2020-06-28 19:55:08,065 - wandb.wandb_agent - INFO - Running runs: ['blidp2je']\n",
      "Downloading data from https://github.com/keras-team/keras-applications/releases/download/resnet/resnet50_weights_tf_dim_ordering_tf_kernels_notop.h5\n",
      "94773248/94765736 [==============================] - 1s 0us/step\n",
      "WARNING:tensorflow:Large dropout rate: 0.6 (>0.5). In TensorFlow 2.x, dropout() uses dropout rate instead of keep_prob. Please ensure that this is intended.\n",
      "Train for 1125 steps, validate for 282 steps\n",
      "Epoch 1/5\n",
      "WARNING:tensorflow:Large dropout rate: 0.6 (>0.5). In TensorFlow 2.x, dropout() uses dropout rate instead of keep_prob. Please ensure that this is intended.\n",
      "WARNING:tensorflow:Large dropout rate: 0.6 (>0.5). In TensorFlow 2.x, dropout() uses dropout rate instead of keep_prob. Please ensure that this is intended.\n",
      "  51/1125 [>.............................] - ETA: 29:14 - loss: 3.1864 - accuracy: 0.09682020-06-28 19:57:11,284 - wandb.wandb_agent - INFO - Agent received command: exit\n",
      "2020-06-28 19:57:11,284 - wandb.wandb_agent - INFO - Received exit command. Killing runs and quitting.\n",
      "\u001b[34m\u001b[1mwandb\u001b[0m: Terminating and syncing runs. Press ctrl-c to kill.\n",
      "\u001b[34m\u001b[1mwandb\u001b[0m: Program ended successfully.\n"
     ]
    }
   ],
   "source": [
    "!wandb agent $sweep_id"
   ]
  },
  {
   "cell_type": "markdown",
   "metadata": {},
   "source": [
    "## Dockerize the Model"
   ]
  },
  {
   "cell_type": "code",
   "execution_count": 22,
   "metadata": {},
   "outputs": [
    {
     "name": "stdout",
     "output_type": "stream",
     "text": [
      "\u001b[37m# https://github.com/aws/deep-learning-containers/blob/master/available_images.md\u001b[39;49;00m\n",
      "\u001b[34mFROM\u001b[39;49;00m \u001b[33mtensorflow/tensorflow-training:2.2.0-gpu-py37-cu102-ubuntu18.04\u001b[39;49;00m\n",
      "\n",
      "\u001b[34mRUN\u001b[39;49;00m pip install wandb -q --upgrade\n",
      "\n",
      "\u001b[34mRUN\u001b[39;49;00m wandb login \u001b[31m$api_key\u001b[39;49;00m\n",
      "\n",
      "\u001b[34mENTRYPOINT\u001b[39;49;00m wandb agent \u001b[31m$sweep_id\u001b[39;49;00m\n"
     ]
    }
   ],
   "source": [
    "!pygmentize 'dockerfile/Dockerfile'"
   ]
  },
  {
   "cell_type": "code",
   "execution_count": null,
   "metadata": {},
   "outputs": [],
   "source": [
    "image_name = 'sweep-model'\n",
    "!docker build -t $image_name ."
   ]
  },
  {
   "cell_type": "markdown",
   "metadata": {},
   "source": [
    "## Upload Docker image to ECR"
   ]
  },
  {
   "cell_type": "code",
   "execution_count": null,
   "metadata": {},
   "outputs": [],
   "source": []
  },
  {
   "cell_type": "markdown",
   "metadata": {},
   "source": [
    "## Obtain Wandb API Key from Secret Manager"
   ]
  },
  {
   "cell_type": "code",
   "execution_count": 45,
   "metadata": {},
   "outputs": [],
   "source": [
    "def get_secret():\n",
    "\n",
    "    secret_name = \"wandb_api_key\"\n",
    "    region_name = \"us-east-2\"\n",
    "\n",
    "    # Create a Secrets Manager client\n",
    "    session = boto3.session.Session()\n",
    "    client = session.client(\n",
    "        service_name='secretsmanager',\n",
    "        region_name=region_name\n",
    "    )\n",
    "\n",
    "    # In this sample we only handle the specific exceptions for the 'GetSecretValue' API.\n",
    "    # See https://docs.aws.amazon.com/secretsmanager/latest/apireference/API_GetSecretValue.html\n",
    "    # We rethrow the exception by default.\n",
    "\n",
    "    try:\n",
    "        get_secret_value_response = client.get_secret_value(\n",
    "            SecretId=secret_name\n",
    "        )\n",
    "    except ClientError as e:\n",
    "        if e.response['Error']['Code'] == 'DecryptionFailureException':\n",
    "            # Secrets Manager can't decrypt the protected secret text using the provided KMS key.\n",
    "            # Deal with the exception here, and/or rethrow at your discretion.\n",
    "            raise e\n",
    "        elif e.response['Error']['Code'] == 'InternalServiceErrorException':\n",
    "            # An error occurred on the server side.\n",
    "            # Deal with the exception here, and/or rethrow at your discretion.\n",
    "            raise e\n",
    "        elif e.response['Error']['Code'] == 'InvalidParameterException':\n",
    "            # You provided an invalid value for a parameter.\n",
    "            # Deal with the exception here, and/or rethrow at your discretion.\n",
    "            raise e\n",
    "        elif e.response['Error']['Code'] == 'InvalidRequestException':\n",
    "            # You provided a parameter value that is not valid for the current state of the resource.\n",
    "            # Deal with the exception here, and/or rethrow at your discretion.\n",
    "            raise e\n",
    "        elif e.response['Error']['Code'] == 'ResourceNotFoundException':\n",
    "            # We can't find the resource that you asked for.\n",
    "            # Deal with the exception here, and/or rethrow at your discretion.\n",
    "            raise e\n",
    "    else:\n",
    "        # Decrypts secret using the associated KMS CMK.\n",
    "        # Depending on whether the secret is a string or binary, one of these fields will be populated.\n",
    "        if 'SecretString' in get_secret_value_response:\n",
    "            secret = get_secret_value_response['SecretString']\n",
    "        else:\n",
    "            decoded_binary_secret = base64.b64decode(get_secret_value_response['SecretBinary'])\n",
    "    \n",
    "   "
   ]
  },
  {
   "cell_type": "markdown",
   "metadata": {},
   "source": [
    "## Sweep the Model with AWS Batch"
   ]
  },
  {
   "cell_type": "code",
   "execution_count": null,
   "metadata": {},
   "outputs": [],
   "source": [
    "batch = boto3.client('batch')\n",
    "\n",
    "response = batch.submit_job(jobName='model-sweep', # use your HutchNet ID instead of 'jdoe'\n",
    "                            jobQueue='mixed', # sufficient for most jobs\n",
    "                            jobDefinition='myJobDef:7', # use a real job definition\n",
    "                            containerOverrides={\n",
    "                                \"environment\": [ # optionally set environment variables\n",
    "                                    {\"name\": \"sweep_id\", \"value\": sweep_id},\n",
    "                                    {\"name\": \"api_key\", \"value\": \"\"}\n",
    "                                ]\n",
    "                            })\n",
    "\n",
    "print(\"Job ID is {}.\".format(response['jobId']))"
   ]
  },
  {
   "cell_type": "code",
   "execution_count": null,
   "metadata": {},
   "outputs": [],
   "source": []
  }
 ],
 "metadata": {
  "kernelspec": {
   "display_name": "conda_tensorflow2_p36",
   "language": "python",
   "name": "conda_tensorflow2_p36"
  },
  "language_info": {
   "codemirror_mode": {
    "name": "ipython",
    "version": 3
   },
   "file_extension": ".py",
   "mimetype": "text/x-python",
   "name": "python",
   "nbconvert_exporter": "python",
   "pygments_lexer": "ipython3",
   "version": "3.6.10"
  }
 },
 "nbformat": 4,
 "nbformat_minor": 4
}
