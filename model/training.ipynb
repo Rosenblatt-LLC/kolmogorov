{
 "cells": [
  {
   "cell_type": "markdown",
   "metadata": {},
   "source": [
    "# Using Wandb with AWS Batch\n",
    "**Use conda_tensorflow2_p36 kernel!**"
   ]
  },
  {
   "cell_type": "code",
   "execution_count": 76,
   "metadata": {},
   "outputs": [
    {
     "name": "stdout",
     "output_type": "stream",
     "text": [
      "The autoreload extension is already loaded. To reload it, use:\n",
      "  %reload_ext autoreload\n"
     ]
    }
   ],
   "source": [
    "%load_ext autoreload\n",
    "%autoreload 2"
   ]
  },
  {
   "cell_type": "markdown",
   "metadata": {},
   "source": [
    "## Install Wandb"
   ]
  },
  {
   "cell_type": "code",
   "execution_count": 2,
   "metadata": {},
   "outputs": [
    {
     "name": "stdout",
     "output_type": "stream",
     "text": [
      "\u001b[33mWARNING: You are using pip version 20.0.2; however, version 20.2.2 is available.\n",
      "You should consider upgrading via the '/home/ec2-user/anaconda3/envs/tensorflow2_p36/bin/python -m pip install --upgrade pip' command.\u001b[0m\n"
     ]
    }
   ],
   "source": [
    "!pip install wandb -q"
   ]
  },
  {
   "cell_type": "code",
   "execution_count": 3,
   "metadata": {},
   "outputs": [],
   "source": [
    "home = '/home/ec2-user/SageMaker/kolmogorov/model'"
   ]
  },
  {
   "cell_type": "code",
   "execution_count": 4,
   "metadata": {},
   "outputs": [
    {
     "name": "stdout",
     "output_type": "stream",
     "text": [
      "/home/ec2-user/SageMaker/kolmogorov/model\n"
     ]
    }
   ],
   "source": [
    "cd $home"
   ]
  },
  {
   "cell_type": "markdown",
   "metadata": {},
   "source": [
    "## Notebook Configuration\n",
    "TODO (Ryan): Explain these variables"
   ]
  },
  {
   "cell_type": "code",
   "execution_count": 5,
   "metadata": {},
   "outputs": [],
   "source": [
    "region = 'us-east-2'\n",
    "sweep = False\n",
    "sweep_id = None #'rosenblatt/satellite-model-and-orientation/dqcsh4ar' \n",
    "test_locally = False\n",
    "multi_gpu = True"
   ]
  },
  {
   "cell_type": "markdown",
   "metadata": {},
   "source": [
    "## Import Packages"
   ]
  },
  {
   "cell_type": "code",
   "execution_count": 6,
   "metadata": {},
   "outputs": [],
   "source": [
    "import yaml\n",
    "import json\n",
    "import wandb\n",
    "import boto3\n",
    "import base64\n",
    "import tensorflow as tf\n",
    "from botocore.exceptions import ClientError"
   ]
  },
  {
   "cell_type": "markdown",
   "metadata": {},
   "source": [
    "## Obtain Wandb API Key from AWS Secret Manager\n",
    "We suggest you put your Wandb API key in an AWS Secret named `wandb_api_key`"
   ]
  },
  {
   "cell_type": "code",
   "execution_count": 7,
   "metadata": {},
   "outputs": [],
   "source": [
    "def get_secret(secret_name, region_name):\n",
    "    session = boto3.session.Session()\n",
    "    client = session.client(\n",
    "        service_name='secretsmanager',\n",
    "        region_name=region_name\n",
    "    )\n",
    "    \n",
    "    get_secret_value_response = client.get_secret_value(\n",
    "        SecretId=secret_name\n",
    "    )\n",
    "    \n",
    "    if 'SecretString' in get_secret_value_response:\n",
    "        secret = get_secret_value_response['SecretString']\n",
    "        return json.loads(secret)\n",
    "    else:\n",
    "        decoded_binary_secret = base64.b64decode(get_secret_value_response['SecretBinary'])\n",
    "        return decoded_binary_secret"
   ]
  },
  {
   "cell_type": "code",
   "execution_count": 8,
   "metadata": {},
   "outputs": [
    {
     "name": "stderr",
     "output_type": "stream",
     "text": [
      "\u001b[34m\u001b[1mwandb\u001b[0m: \u001b[33mWARNING\u001b[0m If you're specifying your api key in code, ensure this code is not shared publically.\n",
      "\u001b[34m\u001b[1mwandb\u001b[0m: \u001b[33mWARNING\u001b[0m Consider setting the WANDB_API_KEY environment variable, or running `wandb login` from the command line.\n",
      "\u001b[34m\u001b[1mwandb\u001b[0m: \u001b[33mWARNING\u001b[0m Calling wandb.login() without arguments from jupyter should prompt you for an api key.\n",
      "\u001b[34m\u001b[1mwandb\u001b[0m: Appending key for api.wandb.ai to your netrc file: /home/ec2-user/.netrc\n"
     ]
    }
   ],
   "source": [
    "assert wandb.login(key=get_secret(\"wandb_api_key\", region)[\"wandb_api_key\"])\n",
    "!rm -r wandb"
   ]
  },
  {
   "cell_type": "markdown",
   "metadata": {},
   "source": [
    "## Initialize the Sweep ID"
   ]
  },
  {
   "cell_type": "code",
   "execution_count": 9,
   "metadata": {},
   "outputs": [],
   "source": [
    "def get_sweep_config(session):\n",
    "    sweep_config = yaml.load(open(f'{home}/sessions/{session}'), Loader=yaml.FullLoader)\n",
    "    return sweep_config"
   ]
  },
  {
   "cell_type": "code",
   "execution_count": 10,
   "metadata": {},
   "outputs": [],
   "source": [
    "def get_sweep_id(entity, project, session):\n",
    "    sweep_config = get_sweep_config(session)\n",
    "    sweep_id = wandb.sweep(sweep_config, project=project, entity=entity)\n",
    "    return sweep_id"
   ]
  },
  {
   "cell_type": "code",
   "execution_count": 11,
   "metadata": {},
   "outputs": [],
   "source": [
    "if sweep:\n",
    "    sessions = !ls $home/sessions\n",
    "    print(f'Pick a session: {sessions}') # TODO: make this a widget"
   ]
  },
  {
   "cell_type": "markdown",
   "metadata": {},
   "source": [
    "TODO: Explain the difference in the sessions."
   ]
  },
  {
   "cell_type": "code",
   "execution_count": 12,
   "metadata": {},
   "outputs": [],
   "source": [
    "if sweep:\n",
    "    session = 'S1P2.yaml' # CHANGE  ME\n",
    "    assert session in sessions, f\"Session does not exist. Please use one of the following: {sessions}\""
   ]
  },
  {
   "cell_type": "markdown",
   "metadata": {},
   "source": [
    "TODO: Explain the relevant variables."
   ]
  },
  {
   "cell_type": "code",
   "execution_count": 13,
   "metadata": {},
   "outputs": [],
   "source": [
    "if sweep and sweep_id is None:\n",
    "    entity = 'rosenblatt' # REPLACE ME\n",
    "    project = 'satellite-model-and-orientation' # REPLACE ME\n",
    "    sweep_id = get_sweep_id(entity, project, session)\n",
    "    sweep_id = f'{entity}/{project}/{sweep_id}'"
   ]
  },
  {
   "cell_type": "code",
   "execution_count": 14,
   "metadata": {},
   "outputs": [],
   "source": [
    "if sweep:\n",
    "    config = get_sweep_config(session)\n",
    "    params = config['parameters']\n",
    "    entrypoint_args_lis = [\n",
    "        \"--dataset_size\",\n",
    "        params['dataset_size']['value'],\n",
    "        \"--sample_distortion\",\n",
    "        params['sample_distortion']['value'],\n",
    "        \"--sweep_id\",\n",
    "        sweep_id\n",
    "    ]\n",
    "    entrypoint_args_str = ' '.join(entrypoint_args_lis)\n",
    "else:\n",
    "    entrypoint_args_lis = [\n",
    "        \"--dataset_size\",\n",
    "        'large',\n",
    "        \"--sample_distortion\",\n",
    "        'generic',\n",
    "    ]\n",
    "    entrypoint_args_str = ' '.join(entrypoint_args_lis)"
   ]
  },
  {
   "cell_type": "markdown",
   "metadata": {},
   "source": [
    "## Build Model Image"
   ]
  },
  {
   "cell_type": "code",
   "execution_count": 15,
   "metadata": {},
   "outputs": [
    {
     "name": "stdout",
     "output_type": "stream",
     "text": [
      "/home/ec2-user/SageMaker/kolmogorov/model/containers/training\n"
     ]
    }
   ],
   "source": [
    "cd $home/containers/training"
   ]
  },
  {
   "cell_type": "code",
   "execution_count": 16,
   "metadata": {},
   "outputs": [],
   "source": [
    "image_name = f'kolmogorov-model:training'\n",
    "api_key = get_secret('wandb_api_key', region)['wandb_api_key']"
   ]
  },
  {
   "cell_type": "markdown",
   "metadata": {},
   "source": [
    "### Authenticate with ECR\n",
    "We set the base image using an [Amazon Deep Learning Container](https://github.com/aws/deep-learning-containers/blob/master/available_images.md). To access the container, you must authenticate docker appropriately."
   ]
  },
  {
   "cell_type": "code",
   "execution_count": 17,
   "metadata": {},
   "outputs": [
    {
     "name": "stdout",
     "output_type": "stream",
     "text": [
      "WARNING! Your password will be stored unencrypted in /home/ec2-user/.docker/config.json.\n",
      "Configure a credential helper to remove this warning. See\n",
      "https://docs.docker.com/engine/reference/commandline/login/#credentials-store\n",
      "\n",
      "Login Succeeded\n"
     ]
    }
   ],
   "source": [
    "# TODO: can we get this from or move this to DockerHub?\n",
    "aws_dl_uri = f'763104351884.dkr.ecr.{region}.amazonaws.com'\n",
    "!aws ecr get-login-password --region $region | docker login --username AWS --password-stdin $aws_dl_uri"
   ]
  },
  {
   "cell_type": "markdown",
   "metadata": {},
   "source": [
    "If this is your first time running the cell below in this sessions, docker will have to pull the base image from ECR. "
   ]
  },
  {
   "cell_type": "code",
   "execution_count": 242,
   "metadata": {},
   "outputs": [
    {
     "name": "stdout",
     "output_type": "stream",
     "text": [
      "Sending build context to Docker daemon  39.94kB\n",
      "Step 1/7 : FROM 763104351884.dkr.ecr.us-east-2.amazonaws.com/tensorflow-training:2.3.0-gpu-py37-cu102-ubuntu18.04\n",
      " ---> d2706d36cacc\n",
      "Step 2/7 : WORKDIR /opt/training\n",
      " ---> Using cache\n",
      " ---> cdbb358ab5c7\n",
      "Step 3/7 : COPY model.py .\n",
      " ---> a7c979890f11\n",
      "Step 4/7 : COPY entrypoint.sh .\n",
      " ---> 73a965ac5017\n",
      "Step 5/7 : RUN pip install --upgrade pip -q\n",
      " ---> Running in a9fd62841433\n",
      "Removing intermediate container a9fd62841433\n",
      " ---> f718606536cf\n",
      "Step 6/7 : RUN pip install awscli pillow wandb boto3 -q\n",
      " ---> Running in 5e3e485326fa\n",
      "Removing intermediate container 5e3e485326fa\n",
      " ---> db01c034506c\n",
      "Step 7/7 : ENTRYPOINT [\"./entrypoint.sh\"]\n",
      " ---> Running in 7969f411d884\n",
      "Removing intermediate container 7969f411d884\n",
      " ---> ed3087852907\n",
      "Successfully built ed3087852907\n",
      "Successfully tagged kolmogorov-model:training\n"
     ]
    }
   ],
   "source": [
    "# TODO: use docker compose \n",
    "!docker build --tag $image_name ."
   ]
  },
  {
   "cell_type": "markdown",
   "metadata": {},
   "source": [
    "## Test Image Locally"
   ]
  },
  {
   "cell_type": "code",
   "execution_count": 243,
   "metadata": {},
   "outputs": [],
   "source": [
    "# MODEL_CODE_VOLUME needs to be kept up to date witht the model code location\n",
    "if test_locally:\n",
    "    WORKDIR = '/opt/training'\n",
    "    MODEL_CODE_VOLUME = f'-v `pwd`/model.py:{WORKDIR}/model.py'\n",
    "    ENTRYPOINT_VOLUME = f'-v `pwd`/entrypoint.sh:{WORKDIR}/entrypoint.sh'\n",
    "    DATASET_VOLUME = f'-v $home/dataset:{WORKDIR}/dataset'\n",
    "\n",
    "    if len(tf.config.experimental.list_physical_devices('GPU')):\n",
    "        cmd  = 'nvidia-docker'\n",
    "        print(f'Attempting to train on GPU, using {cmd} command.')\n",
    "    else:\n",
    "        cmd = 'docker'\n",
    "        print(f'Attempting to train on CPU, using {cmd} command.')\n",
    "    if sweep:\n",
    "        !$cmd run --env-file $home/svc_account_env.list \\\n",
    "            -e WANDB_API_KEY=$api_key \\\n",
    "            $MODEL_CODE_VOLUME \\\n",
    "            $DATASET_VOLUME \\\n",
    "            $ENTRYPOINT_VOLUME \\\n",
    "            -it $image_name \\\n",
    "            $entrypoint_args_str\n",
    "    else:\n",
    "        !$cmd run --env-file $home/svc_account_env.list \\\n",
    "            -e WANDB_API_KEY=$api_key \\\n",
    "            $MODEL_CODE_VOLUME \\\n",
    "            $DATASET_VOLUME \\\n",
    "            $ENTRYPOINT_VOLUME \\\n",
    "            -it $image_name \\\n",
    "            $entrypoint_args_str"
   ]
  },
  {
   "cell_type": "markdown",
   "metadata": {},
   "source": [
    "## Push Image to ECR\n",
    "The repository for the kolmogorov-model image can be found [here](https://us-east-2.console.aws.amazon.com/ecr/repositories/kolmogorov-model/?region=us-east-2). You will not have authority to push to our repository but you are welcome to replace the `ecr_uri` with your own as you modify our image for your use case."
   ]
  },
  {
   "cell_type": "markdown",
   "metadata": {},
   "source": [
    "### Authenticate with ECR\n",
    "In order to push to your own repository, you will have to reauthenticate docker."
   ]
  },
  {
   "cell_type": "code",
   "execution_count": 244,
   "metadata": {},
   "outputs": [
    {
     "name": "stdout",
     "output_type": "stream",
     "text": [
      "WARNING! Your password will be stored unencrypted in /home/ec2-user/.docker/config.json.\n",
      "Configure a credential helper to remove this warning. See\n",
      "https://docs.docker.com/engine/reference/commandline/login/#credentials-store\n",
      "\n",
      "Login Succeeded\n"
     ]
    }
   ],
   "source": [
    "ecr_uri = f'751398683966.dkr.ecr.{region}.amazonaws.com' # REPLACE ME\n",
    "!aws ecr get-login-password --region $region | docker login --username AWS --password-stdin $ecr_uri"
   ]
  },
  {
   "cell_type": "code",
   "execution_count": 262,
   "metadata": {},
   "outputs": [
    {
     "name": "stdout",
     "output_type": "stream",
     "text": [
      "sha256:db19bb14986795b3d21dccf9aea786f16a9becb235471dcff58998147f55970f\n",
      "The push refers to repository [751398683966.dkr.ecr.us-east-2.amazonaws.com/kolmogorov-model]\n",
      "\n",
      "\u001b[1B3e0777e7: Preparing \n",
      "\u001b[1Bb41bffcf: Preparing \n",
      "\u001b[1B140a06ab: Preparing \n",
      "\u001b[1Bc473aaf4: Preparing \n",
      "\u001b[1Bbef5debb: Preparing \n",
      "\u001b[1B9324184c: Preparing \n",
      "\u001b[1Becb1ba98: Preparing \n",
      "\u001b[1B79ce13df: Preparing \n",
      "\u001b[1Be91fd1cb: Preparing \n",
      "\u001b[1Bccebf161: Preparing \n",
      "\u001b[1B40cf1731: Preparing \n",
      "\u001b[1B6b92800c: Preparing \n",
      "\u001b[1Bf587501b: Preparing \n",
      "\u001b[1Bdf01dd6e: Preparing \n",
      "\u001b[1Bb32e31cb: Preparing \n",
      "\u001b[1B97806199: Preparing \n",
      "\u001b[1B76a08085: Preparing \n",
      "\u001b[1B78bc6dda: Preparing \n",
      "\u001b[1B4bdf7df0: Preparing \n",
      "\u001b[1B9929bff4: Preparing \n",
      "\u001b[1B7307b30b: Preparing \n",
      "\u001b[1B106bae06: Preparing \n",
      "\u001b[1B7a81b415: Preparing \n",
      "\u001b[1B56a4b5b9: Preparing \n",
      "\u001b[1B0eb25594: Preparing \n",
      "\u001b[1B63138511: Preparing \n",
      "\u001b[1B1fb7adcd: Preparing \n",
      "\u001b[1Bf9a74649: Preparing \n",
      "\u001b[1Bda143c91: Preparing \n",
      "\u001b[1B287e1f04: Preparing \n",
      "\u001b[31Be0777e7: Pushed   17.02MB/15.53MB8A\u001b[2K\u001b[25A\u001b[2K\u001b[31A\u001b[2K\u001b[24A\u001b[2K\u001b[31A\u001b[2K\u001b[30A\u001b[2K\u001b[31A\u001b[2K\u001b[30A\u001b[2K\u001b[28A\u001b[2K\u001b[30A\u001b[2K\u001b[29A\u001b[2K\u001b[21A\u001b[2K\u001b[19A\u001b[2K\u001b[18A\u001b[2K\u001b[17A\u001b[2K\u001b[31A\u001b[2K\u001b[30A\u001b[2K\u001b[11A\u001b[2K\u001b[4A\u001b[2K\u001b[31A\u001b[2K\u001b[31A\u001b[2K\u001b[30A\u001b[2K\u001b[31A\u001b[2Ktraining: digest: sha256:cd25cef760f8f52da6c874d1bcc05fbf60359d05167c2f1dbf19a45366eaa9f9 size: 6806\n"
     ]
    }
   ],
   "source": [
    "image_uri = f'{ecr_uri}/{image_name}'\n",
    "!docker build --quiet --tag $image_name .\n",
    "!docker tag $image_name $image_uri\n",
    "!docker push $image_uri"
   ]
  },
  {
   "cell_type": "markdown",
   "metadata": {},
   "source": [
    "## Run the image in AWS Batch\n",
    "Running the following cells will setup a job using the same infastructure used in the paper."
   ]
  },
  {
   "cell_type": "markdown",
   "metadata": {},
   "source": [
    "### Register the Job Definition"
   ]
  },
  {
   "cell_type": "code",
   "execution_count": 263,
   "metadata": {},
   "outputs": [],
   "source": [
    "batch = boto3.client('batch')"
   ]
  },
  {
   "cell_type": "code",
   "execution_count": 264,
   "metadata": {},
   "outputs": [
    {
     "name": "stdout",
     "output_type": "stream",
     "text": [
      "Job definition already exists.\n"
     ]
    }
   ],
   "source": [
    "batch_job_definitons = batch.describe_job_definitions()['jobDefinitions']\n",
    "if not any([job_def['jobDefinitionName'] == 'training' for job_def in batch_job_definitons]):\n",
    "    # TODO (Justin): rewrite using boto3 but stil use the json file\n",
    "    !aws batch register-job-definition --cli-input-json file://$home/definitions/training/job.json\n",
    "else:\n",
    "    print('Job definition already exists.')"
   ]
  },
  {
   "cell_type": "markdown",
   "metadata": {},
   "source": [
    "### Create and Enable the Compute Environment"
   ]
  },
  {
   "cell_type": "code",
   "execution_count": 265,
   "metadata": {},
   "outputs": [],
   "source": [
    "#TODO (Justin): make this programatic please. Use boto3 or awscli and the json files in definitions/training."
   ]
  },
  {
   "cell_type": "markdown",
   "metadata": {},
   "source": [
    "### Create the Job Queue"
   ]
  },
  {
   "cell_type": "code",
   "execution_count": 266,
   "metadata": {},
   "outputs": [],
   "source": [
    "#TODO (Justin): make this programatic please. Use boto3 or awscli and the json files in definitions/training."
   ]
  },
  {
   "cell_type": "markdown",
   "metadata": {},
   "source": [
    "### Stat the Job\n",
    "After running the cell below, you can monitor the job on the [AWS Batch Dashboard](https://console.aws.amazon.com/batch/home)."
   ]
  },
  {
   "cell_type": "code",
   "execution_count": 267,
   "metadata": {},
   "outputs": [],
   "source": [
    "num_jobs = 1"
   ]
  },
  {
   "cell_type": "code",
   "execution_count": 268,
   "metadata": {},
   "outputs": [
    {
     "name": "stdout",
     "output_type": "stream",
     "text": [
      "Job ID is 31abf7c1-4a9c-41e6-9bc5-9ecc470fb3f7.\n"
     ]
    }
   ],
   "source": [
    "for _ in range(num_jobs):\n",
    "    response = batch.submit_job(\n",
    "        jobName = config['name'].replace(' ', '_') if sweep else 'training_job',\n",
    "        jobQueue = 'training',\n",
    "        jobDefinition = 'training',\n",
    "        containerOverrides={\n",
    "            'command': entrypoint_args_lis,\n",
    "            'resourceRequirements': [\n",
    "                {\n",
    "                    'value': '8' if multi_gpu else '1',\n",
    "                    'type': 'GPU'\n",
    "                }\n",
    "            ],\n",
    "            'environment': [\n",
    "                {'name':env_var.split('=')[0], 'value':env_var.split('=')[1]} for env_var in open(f'{home}/svc_account_env.list', \"r\").read().split('\\n')]+[{'name':'WANDB_API_KEY', 'value':api_key}],\n",
    "        }\n",
    "    )\n",
    "    print(f'Job ID is {response[\"jobId\"]}.')"
   ]
  },
  {
   "cell_type": "markdown",
   "metadata": {},
   "source": [
    "## Shutting down the Run\n",
    "As of now, you must end the sweep manually using Wandb's sweep dashboard. Once you have stopped all runs or killed the sweep, run the cell below to disable the compute environment."
   ]
  },
  {
   "cell_type": "code",
   "execution_count": 49,
   "metadata": {},
   "outputs": [],
   "source": [
    "#TODO (Justin): make this programatic please. Use boto3 or awscli and the json files in definitions/training."
   ]
  },
  {
   "cell_type": "code",
   "execution_count": null,
   "metadata": {},
   "outputs": [],
   "source": []
  }
 ],
 "metadata": {
  "kernelspec": {
   "display_name": "conda_tensorflow2_p36",
   "language": "python",
   "name": "conda_tensorflow2_p36"
  },
  "language_info": {
   "codemirror_mode": {
    "name": "ipython",
    "version": 3
   },
   "file_extension": ".py",
   "mimetype": "text/x-python",
   "name": "python",
   "nbconvert_exporter": "python",
   "pygments_lexer": "ipython3",
   "version": "3.6.10"
  }
 },
 "nbformat": 4,
 "nbformat_minor": 4
}
